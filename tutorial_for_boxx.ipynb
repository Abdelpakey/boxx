{
 "cells": [
  {
   "cell_type": "markdown",
   "metadata": {},
   "source": [
    "<h1 align=\"center\">Tutorial for Box-X</h1>\n",
    "<div align=\"center\">\n",
    "  A Tool-box for Efficient Build and Debug in Python. Especially for <code>Scientific Computing</code> and <code>Computer Vision</code>.\n",
    "</div>\n",
    "\n",
    "----\n",
    "We use [Binder](https://mybinder.org) to run this notebooks in an executable environment. That's mean you can run those cells rightnow in your browser without download repository.\n",
    "\n",
    "\n",
    "This tutorial is divided into 2 parts by wether the tool is general:\n",
    "1. [**General Python Tool**](#1.-General-Python-Tool). The tools could be used anywhere in Python\n",
    "2. [**Scientific Computing and Computer Vision Tool**](#2.-Scientific-Computing-and-Computer-Vision-Tool). Those tools only be useful in Scientific Computing and Computer Vision field\n",
    "\n",
    "*If you only interesting in [**Scientific Computing and Computer Vision**](#2.-Scientific-Computing-and-Computer-Vision-Tool), click the link.*\n",
    "\n",
    "*P.S This notebook compatible with Python2 and Python3*"
   ]
  },
  {
   "cell_type": "markdown",
   "metadata": {},
   "source": [
    "## 1. **General Python Tool**"
   ]
  },
  {
   "cell_type": "markdown",
   "metadata": {},
   "source": [
    "### ▶ use `what` to know \"What's this?\"\n",
    "\n",
    "`what(anything)` will tell you what's `anything` by pretty print it's **Document**, **Classes**, **Inner Struct** and **Attributes**."
   ]
  },
  {
   "cell_type": "code",
   "execution_count": null,
   "metadata": {},
   "outputs": [],
   "source": [
    "from boxx import what\n",
    "\n",
    "what(LookupError)"
   ]
  },
  {
   "cell_type": "markdown",
   "metadata": {},
   "source": [
    "----\n",
    "`what` is a useful tool when learn a new module or package.    \n",
    "`wtf` is the short of `what` for convenience, your could use code `wtf-anything` to replace `what(anything)`"
   ]
  },
  {
   "cell_type": "code",
   "execution_count": null,
   "metadata": {},
   "outputs": [],
   "source": [
    "# run this cell, to have a try to know \"what is defaultdict?\" here:\n",
    "from collections import defaultdict\n",
    "from boxx import wtf\n",
    "\n",
    "wtf-defaultdict"
   ]
  },
  {
   "cell_type": "markdown",
   "metadata": {},
   "source": [
    "### ▶ `tree` for visualization complex struct\n",
    "a tool like `tree` command in shell that could visualization any struct in  tree struct view.   \n",
    "supported types include list, tuple, dict, numpy, tensor, dataset, dataloader.etc"
   ]
  },
  {
   "cell_type": "code",
   "execution_count": null,
   "metadata": {},
   "outputs": [],
   "source": [
    "from boxx import tree\n",
    "import numpy as np\n",
    "img = np.random.random((3, 244, 244))\n",
    "\n",
    "complex_struct = {\n",
    "    0:(1,img),\n",
    "    'list':[0,1,{\n",
    "        None: 'string!',\n",
    "        'img':img,\n",
    "    }],\n",
    "}\n",
    "\n",
    "tree(complex_struct)"
   ]
  },
  {
   "cell_type": "markdown",
   "metadata": {},
   "source": [
    "## 2. Scientific Computing and Computer Vision Tool\n",
    "\n",
    "The tools introduced in [**General Python Tool**](#1.-General-Python-Tool) are also useful in Scientific Computing and Computer Vision field. \n",
    "\n",
    "In this section we will introduce tools that only uesed in Scientific Computing and Computer Vision field"
   ]
  }
 ],
 "metadata": {
  "kernelspec": {
   "display_name": "Python 3",
   "language": "python",
   "name": "python3"
  },
  "language_info": {
   "codemirror_mode": {
    "name": "ipython",
    "version": 3
   },
   "file_extension": ".py",
   "mimetype": "text/x-python",
   "name": "python",
   "nbconvert_exporter": "python",
   "pygments_lexer": "ipython3",
   "version": "3.6.4"
  }
 },
 "nbformat": 4,
 "nbformat_minor": 2
}
