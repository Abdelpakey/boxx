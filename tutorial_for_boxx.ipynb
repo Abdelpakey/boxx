{
 "cells": [
  {
   "cell_type": "markdown",
   "metadata": {},
   "source": [
    "<h1 align=\"center\">Tutorial for Box-X</h1>\n",
    "<div align=\"center\">\n",
    "  A Tool-box for Efficient Build and Debug in Python. Especially for <code>Scientific Computing</code> and <code>Computer Vision</code>.\n",
    "</div>\n",
    "\n",
    "----\n",
    "We use [Binder](https://mybinder.org) to run this notebooks in an executable environment. That's mean you can **run those cells rightnow** in your browser without download repository.\n",
    "\n",
    "\n",
    "This tutorial is divided into 2 parts by wether the tool is general:\n",
    "1. [**General Python Tool**](#1.-General-Python-Tool). The tools could be used anywhere in Python\n",
    "2. [**Scientific Computing and Computer Vision Tool**](#2.-Scientific-Computing-and-Computer-Vision-Tool). Those tools only be useful in Scientific Computing and Computer Vision field\n",
    "\n",
    "\n",
    "*P.S This notebook compatible with Python2 and Python3*"
   ]
  },
  {
   "cell_type": "markdown",
   "metadata": {},
   "source": [
    "## 1. **General Python Tool**"
   ]
  },
  {
   "cell_type": "markdown",
   "metadata": {},
   "source": [
    "### ▶ use `what` to know \"What's this?\""
   ]
  },
  {
   "cell_type": "code",
   "execution_count": null,
   "metadata": {
    "collapsed": true
   },
   "outputs": [],
   "source": [
    "from boxx import what\n",
    "\n",
    "what(LookupError)"
   ]
  },
  {
   "cell_type": "markdown",
   "metadata": {},
   "source": [
    "`what(anything)` will tell you what's `anything` by pretty print it's **Document**, **Classes**, **Inner Struct** and **Attributes**.\n",
    "\n",
    "----\n",
    "`what` is a useful tool when learn a new module or package.    \n",
    "`wtf` is the short of `what` for convenience, your could use code `wtf-anything` to replace `what(anything)`"
   ]
  },
  {
   "cell_type": "code",
   "execution_count": null,
   "metadata": {
    "collapsed": true
   },
   "outputs": [],
   "source": [
    "# run this cell, have a try to know \"what is defaultdict?\" here:\n",
    "from collections import defaultdict\n",
    "from boxx import wtf\n",
    "\n",
    "wtf-defaultdict"
   ]
  },
  {
   "cell_type": "markdown",
   "metadata": {},
   "source": [
    "### ▶ `tree` for visualization complex struct"
   ]
  },
  {
   "cell_type": "code",
   "execution_count": null,
   "metadata": {
    "collapsed": true,
    "scrolled": true
   },
   "outputs": [],
   "source": [
    "from boxx import tree\n",
    "import numpy as np\n",
    "image = np.random.random((3, 244, 244))\n",
    "\n",
    "complex_struct = {\n",
    "    0:(1,image),\n",
    "    'list':[0,1,{\n",
    "        None: 'string!',\n",
    "        'img':image,\n",
    "    }],\n",
    "}\n",
    "\n",
    "tree(complex_struct)"
   ]
  },
  {
   "cell_type": "markdown",
   "metadata": {},
   "source": [
    "a tool like `tree` command in shell that could visualization any struct in  tree struct view.   \n",
    "supported types include list, tuple, dict, numpy, tensor, dataset, dataloader.etc"
   ]
  },
  {
   "cell_type": "markdown",
   "metadata": {},
   "source": [
    "### ▶ `timeit` is  convenient timing tool "
   ]
  },
  {
   "cell_type": "code",
   "execution_count": null,
   "metadata": {
    "collapsed": true
   },
   "outputs": [],
   "source": [
    "from boxx import timeit\n",
    "\n",
    "def bad_fibonacci(x): \n",
    "    return x<=1 or x*bad_fibonacci(x-1)\n",
    "\n",
    "with timeit(namespace='fibonacci'):\n",
    "    bad_fibonacci(800)"
   ]
  },
  {
   "cell_type": "code",
   "execution_count": null,
   "metadata": {
    "collapsed": true
   },
   "outputs": [],
   "source": [
    "from time import sleep\n",
    "ti = timeit()\n",
    "for i in range(3):\n",
    "    sleep(i)\n",
    "    spend_time = ti()\n",
    "    print('spend %.2f sec in %dth loop'%(spend_time, i))"
   ]
  },
  {
   "cell_type": "markdown",
   "metadata": {},
   "source": [
    "### ▶ `mapmt` is Multi Threading version of `map`\n",
    "`mapmt` is short of \"MAP for Multi Threading\", has the same usage as `map`"
   ]
  },
  {
   "cell_type": "code",
   "execution_count": null,
   "metadata": {
    "collapsed": true
   },
   "outputs": [],
   "source": [
    "from boxx import mapmt, timeit\n",
    "import time\n",
    "def io_block(url):\n",
    "    time.sleep(0.1)\n",
    "    return len(url)\n",
    "urls = ['http://diyer22.xyz/%d'%ind for ind in range(22)]\n",
    "\n",
    "with timeit('map'):\n",
    "    resoult = list(map(io_block, urls))\n",
    "with timeit('mapmt'):\n",
    "    resoult = mapmt(io_block, urls, pool=12)\n"
   ]
  },
  {
   "cell_type": "markdown",
   "metadata": {},
   "source": [
    "### ▶ `mapmp` is Multi Process version of `map`\n",
    "`mapmp` is short of \"MAP for Multi Process\", has the same usage as `map`,`mapmp`"
   ]
  },
  {
   "cell_type": "code",
   "execution_count": null,
   "metadata": {
    "collapsed": true
   },
   "outputs": [],
   "source": [
    "from boxx import mapmp, timeit\n",
    "def bad_fibonacci(x): \n",
    "    return x<=1 or x*bad_fibonacci(x-1)\n",
    "\n",
    "with timeit('map'):\n",
    "    resoult_1 = list(map(bad_fibonacci,[800]*10000))\n",
    "\n",
    "with timeit('mapmp'):\n",
    "    resoult_2 = mapmp(bad_fibonacci,[800]*10000)\n",
    "\n",
    "# the default mapmp time resoult are test on i7 cpu"
   ]
  },
  {
   "cell_type": "markdown",
   "metadata": {},
   "source": [
    "### ▶ use `x_` to quick build function without `lambda x:`"
   ]
  },
  {
   "cell_type": "code",
   "execution_count": null,
   "metadata": {
    "collapsed": true
   },
   "outputs": [],
   "source": [
    "from boxx import x_\n",
    "\n",
    "pow2 = map(x_**2, range(5))\n",
    "print(list(pow2))"
   ]
  },
  {
   "cell_type": "markdown",
   "metadata": {},
   "source": [
    "## 2. Scientific Computing and Computer Vision Tool\n",
    "\n",
    "The tools introduced in [**General Python Tool**](#1.-General-Python-Tool) are also useful in Scientific Computing and Computer Vision field. \n",
    "\n",
    "In this section we will introduce tools that only uesed in Scientific Computing and Computer Vision field"
   ]
  },
  {
   "cell_type": "markdown",
   "metadata": {},
   "source": [
    "### ▶ `show` every image in complex struct"
   ]
  },
  {
   "cell_type": "code",
   "execution_count": null,
   "metadata": {
    "collapsed": true
   },
   "outputs": [],
   "source": [
    "from skimage.io import imread\n",
    "image_path = 'test/imgForTest/0004.jpg'\n",
    "ground_truth_path = 'test/imgForTest/0004.png'\n",
    "\n",
    "image = imread(image_path)\n",
    "ground_truth = imread(ground_truth_path)\n",
    "\n",
    "batch = dict(img=image, gt=ground_truth, paths=[image_path, ground_truth_path])\n",
    "\n",
    "\n",
    "\n",
    "from boxx import show, tree\n",
    "\n",
    "print('visualization the struct:')\n",
    "tree(batch)\n",
    "\n",
    "print('show all images in struct:')\n",
    "show(batch)"
   ]
  },
  {
   "cell_type": "markdown",
   "metadata": {},
   "source": [
    "### ▶ `loga` visualization matrix and tensor\n",
    "`loga` is short of \"log array\""
   ]
  },
  {
   "cell_type": "code",
   "execution_count": null,
   "metadata": {
    "collapsed": true,
    "scrolled": true
   },
   "outputs": [],
   "source": [
    "import numpy as np\n",
    "tensor = np.random.normal(size=(5,3, 244, 244))\n",
    "\n",
    "from boxx import loga\n",
    "loga(tensor)"
   ]
  },
  {
   "cell_type": "code",
   "execution_count": null,
   "metadata": {
    "collapsed": true
   },
   "outputs": [],
   "source": [
    "tensor[...,:10] = np.inf\n",
    "tensor[...,-10:] = -np.inf\n",
    "tensor[...,:10,:] = np.nan\n",
    "loga(tensor)"
   ]
  },
  {
   "cell_type": "markdown",
   "metadata": {},
   "source": [
    "### ▶ `npa` is a convenience way to quick transform other numpy like object to numpy\n",
    "`npa` short of \"numpy.array\""
   ]
  }
 ],
 "metadata": {
  "kernelspec": {
   "display_name": "Python 3",
   "language": "python",
   "name": "python3"
  },
  "language_info": {
   "codemirror_mode": {
    "name": "ipython",
    "version": 3
   },
   "file_extension": ".py",
   "mimetype": "text/x-python",
   "name": "python",
   "nbconvert_exporter": "python",
   "pygments_lexer": "ipython3",
   "version": "3.6.5"
  }
 },
 "nbformat": 4,
 "nbformat_minor": 2
}
