{
 "cells": [
  {
   "cell_type": "markdown",
   "metadata": {},
   "source": [
    "<h1 align=\"center\">Tutorial for Box-X</h1>\n",
    "<div align=\"center\">\n",
    "  A Tool-box for Efficient Build and Debug in Python. Especially for <code>Scientific Computing</code> and <code>Computer Vision</code>.\n",
    "</div>\n",
    "\n",
    "----\n",
    "We use [Binder](https://mybinder.org) to run this notebooks in an executable environment. That's mean you can **run those cells rightnow** in your browser without download repository.\n",
    "\n",
    "\n",
    "This tutorial is divided into 2 parts by wether the tool is general:\n",
    "1. [**General Python Tool**](#1.-General-Python-Tool). The tools could be used anywhere in Python\n",
    "2. [**Scientific Computing and Computer Vision Tool**](#2.-Scientific-Computing-and-Computer-Vision-Tool). Those tools only be useful in Scientific Computing and Computer Vision field\n",
    "\n",
    "\n",
    "*P.S This notebook compatible with Python2 and Python3*"
   ]
  },
  {
   "cell_type": "markdown",
   "metadata": {},
   "source": [
    "## 1. **General Python Tool**"
   ]
  },
  {
   "cell_type": "markdown",
   "metadata": {},
   "source": [
    "### ▶ use `p/x` instead of `print(x)`"
   ]
  },
  {
   "cell_type": "code",
   "execution_count": null,
   "metadata": {},
   "outputs": [],
   "source": [
    "from boxx import p \n",
    "from random import randint\n",
    "\n",
    "l = list(range(10))\n",
    "\n",
    "p/'the output of randint(0,9) is :'\n",
    "sample = l[p/randint(0,9)]\n",
    "\n",
    "sample"
   ]
  },
  {
   "cell_type": "markdown",
   "metadata": {},
   "source": [
    "As you see, `p/x` is easy to print value in expression       \n",
    "`p/randint(0,9)` print the value of `randint(0,9)` and return the value itself\n",
    "\n",
    "use pow operator for highest evaluation order "
   ]
  },
  {
   "cell_type": "code",
   "execution_count": null,
   "metadata": {},
   "outputs": [],
   "source": [
    "muled = 10*p**randint(0,9) \n",
    "muled"
   ]
  },
  {
   "cell_type": "markdown",
   "metadata": {},
   "source": [
    "### ▶ use `g.name = x` or `g.name/x` to assign `x` that in function to a var call `name`  in Python interactive console\n",
    "`g` is short of `to Global`"
   ]
  },
  {
   "cell_type": "code",
   "execution_count": null,
   "metadata": {},
   "outputs": [],
   "source": [
    "from boxx import g\n",
    "from random import randint\n",
    "\n",
    "def sample():\n",
    "    l = list(range(10))\n",
    "    ind = randint(0,9)\n",
    "    g.ind = ind\n",
    "    return l[g.by_div/ind]\n",
    "\n",
    "result = sample()\n",
    "\n",
    "(result, ind, by_div)"
   ]
  },
  {
   "cell_type": "markdown",
   "metadata": {},
   "source": [
    "In Python interactive console new var created by `g` in function \n",
    "`ind`, `by_div`, the values of they are shown above   \n",
    "\n",
    "use `gg` to replace `g`, will auto print the name and value"
   ]
  },
  {
   "cell_type": "code",
   "execution_count": null,
   "metadata": {},
   "outputs": [],
   "source": [
    "from boxx import gg\n",
    "\n",
    "def function(arg):\n",
    "    dic_in_fun = gg.dic**dict(key='[value]', arg=arg)\n",
    "    return dic_in_fun\n",
    "dic_in_fun = function('[value for arg]')\n",
    "\n",
    "dic_in_fun is dic"
   ]
  },
  {
   "cell_type": "markdown",
   "metadata": {},
   "source": [
    "### ▶ use `g()` to transport all vars that in the function to Python interactive console\n",
    "`g()` is a useful tool for debug. you can get all vars that in any function or module."
   ]
  },
  {
   "cell_type": "code",
   "execution_count": null,
   "metadata": {},
   "outputs": [],
   "source": [
    "from boxx import g\n",
    "def function(arg):\n",
    "    var_in_fun = '[value for var in function]'\n",
    "    dic_in_fun = dict(key='[value]')\n",
    "    g()\n",
    "\n",
    "function('[value for arg]')"
   ]
  },
  {
   "cell_type": "code",
   "execution_count": null,
   "metadata": {},
   "outputs": [],
   "source": [
    "print('After run \"g()\" in function, the vars in the function are transport here(interactive console):\\n') \n",
    "print('    var_in_fun:',var_in_fun)\n",
    "print('    arg      :',arg)\n",
    "dic_in_fun"
   ]
  },
  {
   "cell_type": "markdown",
   "metadata": {},
   "source": [
    "Tips for `g`:\n",
    " * `gg` is a print version of `g`, `gg()` will auto print some important infomation of the frame.\n",
    "\n",
    " * `import boxx.g` is convenient way to use `g()` instead of `from boxx import g;g()`(`import boxx.gg` is avaliable too)\n",
    "\n",
    " * `g()` only transport the `locals()` to console, the `globals()` will save to `boxx.p`"
   ]
  },
  {
   "cell_type": "markdown",
   "metadata": {},
   "source": [
    "### ▶ `tree` for visualization complex struct"
   ]
  },
  {
   "cell_type": "code",
   "execution_count": null,
   "metadata": {
    "scrolled": true
   },
   "outputs": [],
   "source": [
    "from boxx import tree\n",
    "import numpy as np\n",
    "image = np.random.random((3, 244, 244))\n",
    "\n",
    "complex_struct = {\n",
    "    0:(1,image),\n",
    "    'list':[0,1,{\n",
    "        None: 'string!',\n",
    "        'img':image,\n",
    "    }],\n",
    "}\n",
    "\n",
    "tree(complex_struct)"
   ]
  },
  {
   "cell_type": "markdown",
   "metadata": {},
   "source": [
    "a tool like `tree` command in shell that could visualization any struct in  tree struct view.   \n",
    "supported types include list, tuple, dict, numpy, torch.tensor, dataset, dataloader.etc"
   ]
  },
  {
   "cell_type": "markdown",
   "metadata": {},
   "source": [
    "### ▶ `timeit` is  convenient timing tool \n",
    "There are two usage for `timeit`"
   ]
  },
  {
   "cell_type": "code",
   "execution_count": null,
   "metadata": {
    "scrolled": true
   },
   "outputs": [],
   "source": [
    "from boxx import timeit\n",
    "from time import sleep\n",
    "\n",
    "with timeit(name='sleep'):\n",
    "    sleep(1) # simulation runing code"
   ]
  },
  {
   "cell_type": "markdown",
   "metadata": {},
   "source": [
    " * The first usage is in Python's \"with\" statement, `timeit` will timing code in with and auto print time in blue color\n",
    "\n",
    "-----"
   ]
  },
  {
   "cell_type": "code",
   "execution_count": null,
   "metadata": {},
   "outputs": [],
   "source": [
    "from time import sleep\n",
    "\n",
    "ti = timeit()\n",
    "for i in range(3):\n",
    "    sleep(i+0.05)\n",
    "    spend_time = ti()\n",
    "    print('spend %.2f sec in %dth loop'%(spend_time, i))"
   ]
  },
  {
   "cell_type": "markdown",
   "metadata": {},
   "source": [
    " * Second usage is make a instance of timeit, call the instance will return the time gap between the previous call"
   ]
  },
  {
   "cell_type": "markdown",
   "metadata": {},
   "source": [
    "### ▶ `mapmt` is Multi Threading version of `map`\n",
    "`mapmt` is short of \"MAP for Multi Threading\", has almost same usage as `map`"
   ]
  },
  {
   "cell_type": "code",
   "execution_count": null,
   "metadata": {},
   "outputs": [],
   "source": [
    "from boxx import mapmt, timeit\n",
    "import time\n",
    "def io_block(url): # simulation io block\n",
    "    time.sleep(0.1)\n",
    "    return len(url)\n",
    "urls = ['http://diyer22.xyz/%d'%ind for ind in range(22)]\n",
    "\n",
    "with timeit('map'):\n",
    "    resoult_1 = list(map(io_block, urls))\n",
    "with timeit('mapmt'):\n",
    "    resoult_2 = mapmt(io_block, urls, pool=12)\n",
    "\n",
    "resoult_1 == resoult_2"
   ]
  },
  {
   "cell_type": "markdown",
   "metadata": {},
   "source": [
    "### ▶ `mapmp` is Multi Process version of `map`\n",
    "`mapmp` is short of \"MAP for Multi Process\", has the same usage as `map` and `mapmt`"
   ]
  },
  {
   "cell_type": "code",
   "execution_count": null,
   "metadata": {},
   "outputs": [],
   "source": [
    "from boxx import mapmp, timeit\n",
    "def bad_fibonacci(x): # simulation Complex calculations\n",
    "    return x<=1 or x*bad_fibonacci(x-1)\n",
    "\n",
    "with timeit('map'):\n",
    "    resoult_1 = list(map(bad_fibonacci,[800]*10000))\n",
    "\n",
    "with timeit('mapmp'):\n",
    "    resoult_2 = mapmp(bad_fibonacci,[800]*10000)\n",
    "    \n",
    "resoult_1 == resoult_2\n",
    "# the time printed below is run on a i7 cpu"
   ]
  },
  {
   "cell_type": "markdown",
   "metadata": {},
   "source": [
    "----\n",
    "`mapmp` and `mapmt` has same usage, they both support two parameters\n",
    "\n",
    "**pool** : int, default None   \n",
    ">    the number of Process or Threading, the default is the number of CPUs in the system   \n",
    "\n",
    "**printfreq** : int or float, default None   \n",
    ">    short of `print frequent`, auto print program progress in `mapmt` and `mapmp`   \n",
    ">    if `printfreq < 1` then `printfreq = len(iterables[0])*printfreq`\n",
    "\n",
    "Notice:\n",
    " * It's better to run multi process under `if __name__ == '__main__':`, [see multiprocessing programming guidelines](https://docs.python.org/3/library/multiprocessing.html#multiprocessing-programming)"
   ]
  },
  {
   "cell_type": "code",
   "execution_count": null,
   "metadata": {},
   "outputs": [],
   "source": [
    "from boxx import mapmp\n",
    "from operator import add\n",
    "xs = list(range(10))\n",
    "\n",
    "double_xs = mapmp(add, xs, [2]*len(xs), pool=2, printfreq=2)\n",
    "\n",
    "#('double_xs: %s'%double_xs)"
   ]
  },
  {
   "cell_type": "markdown",
   "metadata": {},
   "source": [
    "### ▶ use `x_` to quick build function without `lambda x:`"
   ]
  },
  {
   "cell_type": "code",
   "execution_count": null,
   "metadata": {},
   "outputs": [],
   "source": [
    "from boxx import x_\n",
    "f = x_**2\n",
    "x = 3\n",
    "print('f(%s)=%s'%(x, f(x)))\n",
    "\n",
    "xs = range(5)\n",
    "powx = map(x_**x_, xs, xs)\n",
    "print(list(powx))"
   ]
  },
  {
   "cell_type": "markdown",
   "metadata": {},
   "source": [
    "`x_` often used with map, reduce, filter     \n",
    "Acknowledgments: `x_` is from [Fn.py: enjoy FP in Python](https://github.com/kachayev/fn.py)"
   ]
  },
  {
   "cell_type": "markdown",
   "metadata": {},
   "source": [
    "### ▶ use `what` to know \"What's this?\""
   ]
  },
  {
   "cell_type": "code",
   "execution_count": null,
   "metadata": {
    "scrolled": true
   },
   "outputs": [],
   "source": [
    "from boxx import what\n",
    "\n",
    "what(LookupError)"
   ]
  },
  {
   "cell_type": "markdown",
   "metadata": {},
   "source": [
    "`what(anything)` will tell you what's `anything` by pretty print it's **Document**, **Classes**, **Inner Struct** and **Attributes**.It is supplement of `help(anything)`\n",
    "\n",
    "----\n",
    "`what` is a useful tool when learn a new module or package.It reduce the time to check the API document.\n",
    "\n",
    "`wtf` is the short of `what`, for convenience use `wtf-anything` instead of `what(anything)`"
   ]
  },
  {
   "cell_type": "code",
   "execution_count": null,
   "metadata": {},
   "outputs": [],
   "source": [
    "# run this cell, have a try to know \"what is ddict?\" here:\n",
    "from collections import defaultdict\n",
    "from boxx import wtf\n",
    "\n",
    "ddict = defaultdict(lambda x:'boxx', key='value')\n",
    "wtf-ddict"
   ]
  },
  {
   "cell_type": "markdown",
   "metadata": {},
   "source": [
    "## 2. Scientific Computing and Computer Vision Tool\n",
    "\n",
    "The tools introduced in [**General Python Tool**](#1.-General-Python-Tool) are also useful in Scientific Computing and Computer(SC&CV) Vision field. \n",
    "\n",
    "In this section we will introduce tools that only uesed in SC&CV field"
   ]
  },
  {
   "cell_type": "markdown",
   "metadata": {},
   "source": [
    "### ▶ `show` every image in complex struct"
   ]
  },
  {
   "cell_type": "code",
   "execution_count": null,
   "metadata": {},
   "outputs": [],
   "source": [
    "# prepare images\n",
    "from skimage.io import imread\n",
    "image_path = 'test/imgForTest/0004.jpg'\n",
    "ground_truth_path = 'test/imgForTest/0004.png'\n",
    "\n",
    "image = imread(image_path)\n",
    "ground_truth = imread(ground_truth_path)\n",
    "\n",
    "# complex struct\n",
    "batch = dict(img=image, gt=ground_truth, paths=[image_path, ground_truth_path])\n",
    "\n",
    "from boxx import show, tree\n",
    "print('visualization the struct:')\n",
    "tree(batch)\n",
    "\n",
    "print('show all images in struct:')\n",
    "show(batch)"
   ]
  },
  {
   "cell_type": "markdown",
   "metadata": {},
   "source": [
    "### ▶ `loga` visualization matrix and tensor\n",
    "`loga` is short of \"log array\""
   ]
  },
  {
   "cell_type": "code",
   "execution_count": null,
   "metadata": {
    "scrolled": true
   },
   "outputs": [],
   "source": [
    "import numpy as np\n",
    "array = np.random.normal(size=(5,3, 244, 244))\n",
    "\n",
    "from boxx import loga\n",
    "loga(array)"
   ]
  },
  {
   "cell_type": "markdown",
   "metadata": {},
   "source": [
    "`loga` analysis the `numpy.ndarray` by it's shape, max, min, mean, and distribute of the array    \n",
    "`loga` support other array-like types include list, numpy, torch.tensor, mxnet.ndarray.etc\n",
    "\n",
    "`loga` will tell you how many `nan`, `inf` in the array if array include `nan`, `inf`:"
   ]
  },
  {
   "cell_type": "code",
   "execution_count": null,
   "metadata": {},
   "outputs": [],
   "source": [
    "array[...,:10] = np.inf\n",
    "array[...,-10:] = -np.inf\n",
    "array[...,:10,:] = np.nan\n",
    "loga(array)"
   ]
  },
  {
   "cell_type": "code",
   "execution_count": null,
   "metadata": {},
   "outputs": [],
   "source": [
    "loga?"
   ]
  },
  {
   "cell_type": "markdown",
   "metadata": {},
   "source": [
    "### ▶ `npa` is a convenience way to quick transform other numpy like object to numpy\n",
    "`npa` short of \"numpy.array\""
   ]
  }
 ],
 "metadata": {
  "kernelspec": {
   "display_name": "Python 3",
   "language": "python",
   "name": "python3"
  },
  "language_info": {
   "codemirror_mode": {
    "name": "ipython",
    "version": 3
   },
   "file_extension": ".py",
   "mimetype": "text/x-python",
   "name": "python",
   "nbconvert_exporter": "python",
   "pygments_lexer": "ipython3",
   "version": "3.6.5"
  }
 },
 "nbformat": 4,
 "nbformat_minor": 2
}
