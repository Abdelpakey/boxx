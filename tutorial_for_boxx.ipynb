{
 "cells": [
  {
   "cell_type": "markdown",
   "metadata": {},
   "source": [
    "<h1 align=\"center\">Tutorial for Box-X</h1>\n",
    "<div align=\"center\">\n",
    "  Tool-box for Efficient Build and Debug in Python. Especially for <strong>Scientific Computing</strong> and <strong>Computer Vision</strong>.\n",
    "</div>\n",
    "\n",
    "----\n",
    "We use [Binder](https://mybinder.org) to run this notebooks in an executable interactive online environment. That mean you can **run those cells rightnow** in your browser without download repository.\n",
    "\n",
    "\n",
    "This tutorial is divided into 2 parts by wether the tool is general:\n",
    "1. [**General Python Tool**](#1.-General-Python-Tool). The tools could be used anywhere in Python\n",
    "2. [**Scientific Computing and Computer Vision Tool**](#2.-Scientific-Computing-and-Computer-Vision-Tool). Those tools only be useful in Scientific Computing and Computer Vision field\n",
    "\n",
    "\n",
    "*P.S This notebook compatible with Python2 and Python3*"
   ]
  },
  {
   "cell_type": "markdown",
   "metadata": {},
   "source": [
    "<p><!-- START <code>./other/generate_table_of_contents_for_ipynb.py</code> generated TOC please keep comment here to allow auto update -->\n",
    "<!-- DON'T EDIT THIS SECTION, INSTEAD RE-RUN <code>./other/generate_table_of_contents_for_ipynb.py</code> TO UPDATE --></p>\n",
    "\n",
    "<h2>Table of Contents</h2>\n",
    "\n",
    "<ul>\n",
    "<li><a href=\"#1.-General-Python-Tool\">1. General Python Tool</a>\n",
    "<ul>\n",
    "<li><a href=\"#▶-p/x-is-better-way-to-print(x)\">▶ <code>p/x</code> is better way to <code>print(x)</code></a></li>\n",
    "<li><a href=\"#▶-g.name-=-x-or-g.name/x-to-transport-variable-to-Python-interactive-console\">▶ <code>g.name = x</code> or <code>g.name/x</code> to transport variable to Python interactive console</a></li>\n",
    "<li><a href=\"#▶-g()-to-transport-all-variables-that-in-the-function-to-Python-interactive-console\">▶ <code>g()</code> to transport all variables that in the function to Python interactive console</a></li>\n",
    "<li><a href=\"#▶-timeit-is--convenient-timing-tool-\">▶ <code>timeit</code> is  convenient timing tool </a></li>\n",
    "<li><a href=\"#▶-mapmt-is-Multi-Threading-version-of-map\">▶ <code>mapmt</code> is Multi Threading version of <code>map</code></a></li>\n",
    "<li><a href=\"#▶-mapmp-is-Multi-Process-version-of-map\">▶ <code>mapmp</code> is Multi Process version of <code>map</code></a></li>\n",
    "<li><a href=\"#▶-x_-to-quick-build-function-without-lambda-x:\">▶ <code>x_</code> to quick build function without <code>lambda x:</code></a></li>\n",
    "<li><a href=\"#▶-mf-to-quick-add-magic-method-to-funcation\">▶ <code>mf</code> to quick add magic method to funcation</a></li>\n",
    "<li><a href=\"#▶-tree-to-visualization-complex-struct-in-tree-format\">▶ <code>tree</code> to visualization complex struct in tree format</a></li>\n",
    "<li><a href=\"#▶-dira(x)-to-show-x's-all-attribute\">▶ <code>dira(x)</code> to show <code>x</code>'s all attribute</a></li>\n",
    "<li><a href=\"#▶-what-to-know-&quot;What's-this?&quot;\">▶ <code>what</code> to know &quot;What's this?&quot;</a></li>\n",
    "<li><a href=\"#▶-wp,-wg,-wgg-are-mulitple-variables-version-of-p,-g,-gg-that-work-in-&quot;with-statement&quot;\">▶ <code>wp</code>, <code>wg</code>, <code>wgg</code> are mulitple variables version of <code>p</code>, <code>g</code>, <code>gg</code> that work in &quot;with statement&quot;</a></li>\n",
    "<li><a href=\"#▶-boxx-debug-tool-matrix\">▶ <code>boxx</code> debug tool matrix</a></li>\n",
    "<li><a href=\"#▶-logc-to-pretty-print-expression-by-show-every-variable's-value-in-expression\">▶ <code>logc</code> to pretty print expression by show every variable's value in expression</a></li>\n",
    "<li><a href=\"#▶-heatmap-to-show-the-time-heat-map-of-your-code\">▶ <code>heatmap</code> to show the time heat map of your code</a></li>\n",
    "<li><a href=\"#▶-performance-could-statistic-visualization-your-code-perfomance\">▶ <code>performance</code> could statistic visualization your code perfomance</a></li>\n",
    "<li><a href=\"#▶-dicto-is-a-convenient-version-of-dict\">▶ <code>dicto</code> is a convenient version of <code>dict</code></a></li>\n",
    "<li><a href=\"#▶-sysi-include-many-infomation-about-operating-environment\">▶ <code>sysi</code> include many infomation about operating environment</a></li>\n",
    "<li><a href=\"#▶-ll-is-a-convenient-tool-for-list\">▶ <code>ll</code> is a convenient tool for list</a></li>\n",
    "</ul></li>\n",
    "<li><a href=\"#2.-Scientific-Computing-and-Computer-Vision-Tool\">2. Scientific Computing and Computer Vision Tool</a>\n",
    "<ul>\n",
    "<li><a href=\"#▶-show-every-image-in-complex-struct\">▶ <code>show</code> every image in complex struct</a></li>\n",
    "<li><a href=\"#▶-loga-to-visualization-matrix-and-tensor\">▶ <code>loga</code> to visualization matrix and tensor</a></li>\n",
    "<li><a href=\"#▶-tree-to-visualization-complex-struct-for-Scientific-Computing\">▶ <code>tree</code> to visualization complex struct for Scientific Computing</a></li>\n",
    "<li><a href=\"#▶-npa-is-a-convenient-way-to-quick-transform-other-numpy-like-object-to-numpy\">▶ <code>npa</code> is a convenient way to quick transform other numpy like object to numpy</a></li>\n",
    "</ul></li>\n",
    "</ul>"
   ]
  },
  {
   "cell_type": "markdown",
   "metadata": {},
   "source": [
    "## 1. General Python Tool"
   ]
  },
  {
   "cell_type": "markdown",
   "metadata": {},
   "source": [
    "### ▶ `p/x` is better way to `print(x)`"
   ]
  },
  {
   "cell_type": "code",
   "execution_count": null,
   "metadata": {},
   "outputs": [],
   "source": [
    "from boxx import p \n",
    "\n",
    "p/'p/x will print(x) and return x'"
   ]
  },
  {
   "cell_type": "code",
   "execution_count": null,
   "metadata": {},
   "outputs": [],
   "source": [
    "from boxx import p \n",
    "from random import randint\n",
    "\n",
    "s = 'ABCD'\n",
    "p/'the output of randint(0, 3) is :'\n",
    "sample = s[p/randint(0, 3)]\n",
    "\n",
    "sample"
   ]
  },
  {
   "cell_type": "markdown",
   "metadata": {},
   "source": [
    "As you see, `p/x` is easy to print value in expression.       \n",
    "`p/randint(0, 3)` print the value of `randint(0, 3)` and return the value itself, which won't influences the program.\n",
    "\n",
    "---\n",
    "↓ Use pow operator for highest evaluation order. "
   ]
  },
  {
   "cell_type": "code",
   "execution_count": null,
   "metadata": {},
   "outputs": [],
   "source": [
    "from boxx import p \n",
    "from random import randint \n",
    "tenx = 10 * p**randint(0,9) \n",
    "tenx"
   ]
  },
  {
   "cell_type": "markdown",
   "metadata": {},
   "source": [
    "### ▶ `g.name = x` or `g.name/x` to transport variable to Python interactive console\n",
    "`g` is short of `to Global`"
   ]
  },
  {
   "cell_type": "code",
   "execution_count": null,
   "metadata": {},
   "outputs": [],
   "source": [
    "from boxx import g\n",
    "\n",
    "def f():\n",
    "    listt = [1,2]\n",
    "    g.l = listt\n",
    "f()\n",
    "\n",
    "# `listt` is transported to console as `l`\n",
    "l"
   ]
  },
  {
   "cell_type": "markdown",
   "metadata": {},
   "source": [
    "In Python interactive console, new var `l` created by `g.l = listt` in function.   \n",
    "\n",
    "💡 **Note:** if `l` exists in console, `l` will be covered by `listt`\n",
    "\n",
    "---\n",
    "if use `gg` to replace `g`, `gg` will print the name and value while transporting.    \n",
    "Use `g.name/x` to transport value in expression."
   ]
  },
  {
   "cell_type": "code",
   "execution_count": null,
   "metadata": {},
   "outputs": [],
   "source": [
    "from boxx import g, gg\n",
    "\n",
    "def f():\n",
    "    listt = [1,2]\n",
    "    gg.l = listt\n",
    "    return g.by_div/listt\n",
    "\n",
    "listt = f()\n",
    "\n",
    "# l, by_div are transported to console\n",
    "\n",
    "(listt, l, by_div, l is listt, by_div is listt)"
   ]
  },
  {
   "cell_type": "markdown",
   "metadata": {},
   "source": [
    "In Python interactive console, variable `l`, `by_div` are created by `g` in function `f()`.\n",
    "\n",
    "All of they are `listt` has the same `id`.\n",
    "\n",
    "if use `gg` to replace `g`, `gg` will print the name and value while transporting."
   ]
  },
  {
   "cell_type": "markdown",
   "metadata": {},
   "source": [
    "### ▶ `g()` to transport all variables that in the function to Python interactive console\n",
    "`g()` is a useful tool for debug. you can get all vars that in any function or module."
   ]
  },
  {
   "cell_type": "code",
   "execution_count": null,
   "metadata": {},
   "outputs": [],
   "source": [
    "from boxx import g\n",
    "def function(arg):\n",
    "    dic_in_fun = dict(key='[value]')\n",
    "    g()\n",
    "\n",
    "function('[value for arg]')\n",
    "\n",
    "# transport all variables in funcation to console \n",
    "print('dic_in_fun:',dic_in_fun)\n",
    "print('arg :',arg)"
   ]
  },
  {
   "cell_type": "markdown",
   "metadata": {},
   "source": [
    "Tips for `g`:\n",
    " * `gg` is a print version of `g`, `gg()` will print all variable with thier name and some infomation about the frame.\n",
    "\n",
    " * `import boxx.g` is convenient way to use `g()` instead of `from boxx import g;g()`(`import boxx.gg` is avaliable too)\n",
    "\n",
    " * `g()` only transport the `locals()` to console, the `globals()` will save to `boxx.p`"
   ]
  },
  {
   "cell_type": "code",
   "execution_count": null,
   "metadata": {},
   "outputs": [],
   "source": [
    "def f(arg=517):\n",
    "    l = [1,2]\n",
    "    import boxx.gg\n",
    "f()\n",
    "\n",
    "# gg will pretty print all variables in f\n",
    "# and `l` and `arg` are transported to console \n",
    "arg, l"
   ]
  },
  {
   "cell_type": "markdown",
   "metadata": {},
   "source": [
    "### ▶ `timeit` is  convenient timing tool "
   ]
  },
  {
   "cell_type": "code",
   "execution_count": null,
   "metadata": {
    "scrolled": true
   },
   "outputs": [],
   "source": [
    "from boxx import timeit\n",
    "from time import sleep\n",
    "\n",
    "with timeit():\n",
    "    sleep(0.01) # simulation runing code\n",
    "\n",
    "with timeit(name='sleep'):\n",
    "    sleep(0.1) # simulation runing code"
   ]
  },
  {
   "cell_type": "markdown",
   "metadata": {},
   "source": [
    "In \"with statement\", `timeit` will timing code that in with and print spend time in blue color\n"
   ]
  },
  {
   "cell_type": "markdown",
   "metadata": {},
   "source": [
    "### ▶ `mapmt` is Multi Threading version of `map`\n",
    "`mapmt` is short of \"MAP for Multi Threading\", has almost same usage as `map`"
   ]
  },
  {
   "cell_type": "code",
   "execution_count": null,
   "metadata": {},
   "outputs": [],
   "source": [
    "from boxx import mapmt, timeit\n",
    "import time\n",
    "def io_block(url): # simulation io block\n",
    "    time.sleep(0.1)\n",
    "    return len(url)\n",
    "urls = ['http://diyer22.xyz/%d'%ind for ind in range(10)]\n",
    "\n",
    "with timeit('map'):\n",
    "    resoult_1 = list(map(io_block, urls))\n",
    "with timeit('mapmt'):\n",
    "    resoult_2 = mapmt(io_block, urls, pool=10)\n",
    "    # pool=10 mean 10 threadings\n",
    "\n",
    "resoult_1 == resoult_2"
   ]
  },
  {
   "cell_type": "markdown",
   "metadata": {},
   "source": [
    "### ▶ `mapmp` is Multi Process version of `map`\n",
    "`mapmp` is short of \"MAP for Multi Process\", has the same usage as `map` and `mapmt`"
   ]
  },
  {
   "cell_type": "code",
   "execution_count": null,
   "metadata": {},
   "outputs": [],
   "source": [
    "from boxx import mapmp, timeit\n",
    "def bad_fibonacci(x): # simulation Complex calculations\n",
    "    return x<=1 or x*bad_fibonacci(x-1)\n",
    "\n",
    "with timeit('map'):\n",
    "    resoult_1 = list(map(bad_fibonacci,[800]*10000))\n",
    "\n",
    "with timeit('mapmp'):\n",
    "    resoult_2 = mapmp(bad_fibonacci,[800]*10000)\n",
    "    \n",
    "resoult_1 == resoult_2\n",
    "# the time printed below is run on a Intel i5 cpu"
   ]
  },
  {
   "cell_type": "markdown",
   "metadata": {},
   "source": [
    "----\n",
    "`mapmp` and `mapmt` has same usage, they both support two parameters\n",
    "\n",
    "**pool** : int, default None   \n",
    ">    the number of Process or Threading, the default is the number of CPUs in the system   \n",
    "\n",
    "**printfreq** : int or float, default None   \n",
    ">    short of `print frequent`, auto print program progress in `mapmt` and `mapmp`   \n",
    ">    if `printfreq < 1` then `printfreq = len(iterables[0])*printfreq`\n",
    "\n",
    "Notice:\n",
    " * It's better to run multi process under `if __name__ == '__main__':`, [see multiprocessing programming guidelines](https://docs.python.org/3/library/multiprocessing.html#multiprocessing-programming)\n",
    "\n",
    "---\n",
    "\n",
    "In multi process programs, display processing progress is troublesome.   \n",
    "**printfreq** parameter in `mapmp` can handle this problem"
   ]
  },
  {
   "cell_type": "code",
   "execution_count": null,
   "metadata": {},
   "outputs": [],
   "source": [
    "from boxx import mapmp\n",
    "from operator import mul\n",
    "\n",
    "xs = list(range(10))\n",
    "double_xs = mapmp(mul, xs, [2]*len(xs), pool=2, printfreq=2)\n",
    "\n",
    "#('double_xs: %s'%double_xs)"
   ]
  },
  {
   "cell_type": "markdown",
   "metadata": {},
   "source": [
    "### ▶ `x_` to quick build function without `lambda x:`"
   ]
  },
  {
   "cell_type": "code",
   "execution_count": null,
   "metadata": {},
   "outputs": [],
   "source": [
    "from boxx import x_\n",
    "f = x_**2\n",
    "x = 3\n",
    "print('f(%s)=%s'%(x, f(x)))"
   ]
  },
  {
   "cell_type": "markdown",
   "metadata": {},
   "source": [
    "`x_` often used with map, reduce, filter     "
   ]
  },
  {
   "cell_type": "code",
   "execution_count": null,
   "metadata": {},
   "outputs": [],
   "source": [
    "xs = range(5)\n",
    "powx = map(x_**x_, xs, xs)\n",
    "print(list(powx))"
   ]
  },
  {
   "cell_type": "markdown",
   "metadata": {},
   "source": [
    "### ▶ `mf` to quick add magic method to funcation\n",
    "`mf` is short of \"Magic Method\""
   ]
  },
  {
   "cell_type": "code",
   "execution_count": null,
   "metadata": {},
   "outputs": [],
   "source": [
    "from boxx import mf\n",
    "\n",
    "l = mf(list)\n",
    "tuplee = (5, 1, 7)\n",
    "print('- :', l-tuplee)\n",
    "print('* :', l*tuplee)\n",
    "print('**:', l**tuplee)\n",
    "print('/ :', l/tuplee)"
   ]
  },
  {
   "cell_type": "markdown",
   "metadata": {},
   "source": [
    "As you see, when `-`, `*`, `**` as magic method: do `f(x)` and return `f(x)`\n",
    "\n",
    "when `/` as magic metho: do `f(x)` but return `x`\n",
    "\n",
    "**Funcations that wraps by `mf` in `boxx`**:  `stdout`, `log`, `logc`, `printt`, `pblue`, `pred`, `pdanger`, `perr`, `pinfo`, `typestr`, `getfathers`, `getfather`, `nextiter`, `mf`, `plot`, `show`, `showb`, `shows`, `loga`, `tree`, `treem`, `treea`, `dira`, `what`, `wtf`, `tprgb`, `torgb`, `normalizing`, `norma`, `npa`, `histEqualize`, `boolToIndex`"
   ]
  },
  {
   "cell_type": "markdown",
   "metadata": {},
   "source": [
    "### ▶ `tree` to visualization complex struct in tree format"
   ]
  },
  {
   "cell_type": "code",
   "execution_count": null,
   "metadata": {
    "scrolled": true
   },
   "outputs": [],
   "source": [
    "from boxx import tree\n",
    "\n",
    "complex_struct = dict(key=[0, 'str', ('in_tuple', None)], tree=tree)\n",
    "\n",
    "tree(complex_struct)"
   ]
  },
  {
   "cell_type": "markdown",
   "metadata": {},
   "source": [
    "A tool like `tree` command in shell that could visualization any struct in  tree struct view.   \n",
    "Support types include `list`, `tuple`, `dict`, `numpy`, `torch.tensor/Dataset/DataLoader`， `mxnet.ndarray`, `PIL.Image`.etc"
   ]
  },
  {
   "cell_type": "markdown",
   "metadata": {},
   "source": [
    "### ▶ `dira(x)` to show `x`'s all attribute\n",
    "`dira(x)` is short of \"dir Attribute\".   "
   ]
  },
  {
   "cell_type": "code",
   "execution_count": null,
   "metadata": {
    "scrolled": true
   },
   "outputs": [],
   "source": [
    "from boxx import dira\n",
    "\n",
    "dira(LookupError)"
   ]
  },
  {
   "cell_type": "markdown",
   "metadata": {},
   "source": [
    "`dira(x)` will pretty print `x`'s all attribute in tree struct.    \n",
    "And `dira(x)` will print `x`'s Father Classes too."
   ]
  },
  {
   "cell_type": "markdown",
   "metadata": {},
   "source": [
    "### ▶ `what` to know \"What's this?\""
   ]
  },
  {
   "cell_type": "code",
   "execution_count": null,
   "metadata": {
    "scrolled": true
   },
   "outputs": [],
   "source": [
    "from boxx import what\n",
    "\n",
    "what(LookupError)"
   ]
  },
  {
   "cell_type": "markdown",
   "metadata": {},
   "source": [
    "`what(x)` will show \"what is `x`?\" by pretty print it's **Document**, **Father Classes**, **Inner Struct** and **Attributes**. It is supplement of `help(x)`\n",
    "\n",
    "----\n",
    "`boxx.what` is a useful tool when learn a new module or package.It reduce the time to check the API document.\n",
    "\n",
    "`wtf` is the short of `what`, use `wtf-x` for convenience."
   ]
  },
  {
   "cell_type": "code",
   "execution_count": null,
   "metadata": {},
   "outputs": [],
   "source": [
    "# run this cell, have a try to know \"what is ddict?\" here:\n",
    "from collections import defaultdict\n",
    "from boxx import wtf\n",
    "\n",
    "ddict = defaultdict(lambda x:'boxx', Starman='Bowie')\n",
    "wtf-ddict"
   ]
  },
  {
   "cell_type": "markdown",
   "metadata": {},
   "source": [
    "### ▶ `wp`, `wg`, `wgg` are mulitple variables version of `p`, `g`, `gg` that work in \"with statement\"\n",
    "\n",
    "---\n",
    "#### 1. `wp` is short of \"With Print\", it's mulitple variables version of `p/x`\n",
    "\n",
    "`wp` print many variables with their variable name in \"with statement\""
   ]
  },
  {
   "cell_type": "code",
   "execution_count": null,
   "metadata": {
    "scrolled": false
   },
   "outputs": [],
   "source": [
    "from random import random\n",
    "from boxx import wp\n",
    "\n",
    "with wp:\n",
    "    a = random()\n",
    "    b = random()\n",
    "    c = a + b"
   ]
  },
  {
   "cell_type": "markdown",
   "metadata": {},
   "source": [
    "`wp` only print assignment variables.     \n",
    "if variable's name in `locals()` and `id(variable)` not change, variable may not be detected."
   ]
  },
  {
   "cell_type": "markdown",
   "metadata": {},
   "source": [
    "### ▶ `boxx` debug tool matrix\n",
    "\n",
    "\n",
    "| How many vars \\ Operation | print | transport | transport & print |\n",
    "| :---- | :---- | :---- | :---- |\n",
    "| 1 variable | `p/x` | `g.name/x` | `gg.name/x`|\n",
    "|Multiple variables | `with wp:` | `with wg:` | `with wgg:` |\n",
    "|All `locals()`| `p()` | `g()` | `gg()` |\n",
    "|All `locals()`\\_2 | `import boxx.p` | `import boxx.g` | `import boxx.gg` |\n",
    "\n",
    "* **transport** mean \"transport variable to Python interactive console\"\n",
    "* **All `locals()`** mean all variables in the funcation or module\n",
    "* **All `locals()`\\_2** is a convenient way to execution operation when `boxx` are not imported"
   ]
  },
  {
   "cell_type": "markdown",
   "metadata": {},
   "source": [
    "### ▶ `logc` to pretty print expression by show every variable's value in expression\n",
    "`logc` is short of \"Log Code\""
   ]
  },
  {
   "cell_type": "code",
   "execution_count": null,
   "metadata": {
    "scrolled": false
   },
   "outputs": [],
   "source": [
    "from random import random\n",
    "from boxx import logc\n",
    "a = random()\n",
    "b = random()\n",
    "logc(\"mean = (a + b) / 2\", exe=True)"
   ]
  },
  {
   "cell_type": "markdown",
   "metadata": {},
   "source": [
    "### ▶ `heatmap` to show the time heat map of your code"
   ]
  },
  {
   "cell_type": "code",
   "execution_count": null,
   "metadata": {
    "scrolled": false
   },
   "outputs": [],
   "source": [
    "%matplotlib inline\n",
    "from boxx import heatmap\n",
    "\n",
    "heatmap('./yllab.py')"
   ]
  },
  {
   "cell_type": "markdown",
   "metadata": {},
   "source": [
    "`heatmap` also support python code string."
   ]
  },
  {
   "cell_type": "code",
   "execution_count": null,
   "metadata": {},
   "outputs": [],
   "source": [
    "%matplotlib inline\n",
    "from boxx import heatmap\n",
    "\n",
    "code = '''\n",
    "def bad_fibonacci(x): # simulation Complex calculations\n",
    "    if x<=1 :\n",
    "        return 1\n",
    "    return x*bad_fibonacci(x-1)\n",
    "bad_fibonacci(3)\n",
    "'''\n",
    "heatmap(code)"
   ]
  },
  {
   "cell_type": "markdown",
   "metadata": {},
   "source": [
    "### ▶ `performance` could statistic visualization your code perfomance"
   ]
  },
  {
   "cell_type": "code",
   "execution_count": null,
   "metadata": {
    "scrolled": false
   },
   "outputs": [],
   "source": [
    "from boxx import performance\n",
    "\n",
    "performance('./yllab.py') \n",
    "# broswer will open a web page to visualization code perfomance if possible"
   ]
  },
  {
   "cell_type": "markdown",
   "metadata": {},
   "source": [
    "`performance` also support python code string."
   ]
  },
  {
   "cell_type": "code",
   "execution_count": null,
   "metadata": {},
   "outputs": [],
   "source": [
    "code = '''\n",
    "def bad_fibonacci(x): # simulation Complex calculations\n",
    "    if x<=1 :\n",
    "        return 1\n",
    "    return x*bad_fibonacci(x-1)\n",
    "bad_fibonacci(5)\n",
    "'''\n",
    "performance(code) \n",
    "# broswer will open a web page to visualization code perfomance if possible"
   ]
  },
  {
   "cell_type": "markdown",
   "metadata": {},
   "source": [
    "### ▶ `dicto` is a convenient version of `dict`\n",
    "`dicto` is short of \"dict Object\""
   ]
  },
  {
   "cell_type": "code",
   "execution_count": null,
   "metadata": {
    "scrolled": false
   },
   "outputs": [],
   "source": [
    "from boxx import dicto\n",
    "d = {'a':22}\n",
    "\n",
    "dd = dicto(d)\n",
    "print(dd.a)\n",
    "\n",
    "dd.b = 517\n",
    "dd"
   ]
  },
  {
   "cell_type": "markdown",
   "metadata": {},
   "source": [
    "`dicto` is sub-class of `dict` that is easy to use, has same usage as `dict`.\n",
    "\n",
    "BTW, `boxx.cf` is a `dicto` instance that could save your global config, and it could be used at all your `.py` files by `from boxx import cf` "
   ]
  },
  {
   "cell_type": "markdown",
   "metadata": {},
   "source": [
    "### ▶ `sysi` include many infomation about operating environment"
   ]
  },
  {
   "cell_type": "code",
   "execution_count": null,
   "metadata": {
    "scrolled": true
   },
   "outputs": [],
   "source": [
    "from boxx import dira, sysi\n",
    "\n",
    "dira(sysi, pattern='^[^_]')"
   ]
  },
  {
   "cell_type": "markdown",
   "metadata": {},
   "source": [
    "Could use `sysi.cpun`, `sysi.user`, `sysi.host` to let code know wether the environment is local or remote."
   ]
  },
  {
   "cell_type": "markdown",
   "metadata": {},
   "source": [
    "### ▶ `ll` is a convenient tool for list\n",
    "`ll` is short of \"List tooL\""
   ]
  },
  {
   "cell_type": "code",
   "execution_count": null,
   "metadata": {
    "scrolled": false
   },
   "outputs": [],
   "source": [
    "from boxx import ll\n",
    "\n",
    "print(ll * 5) # instead of  list(range(5))\n",
    "\n",
    "print(ll/zip([0, 1])) # quick way to do `list(x)` when x iterable\n",
    "\n",
    "ll # BTW, ll self is a list "
   ]
  },
  {
   "cell_type": "markdown",
   "metadata": {},
   "source": [
    "## 2. Scientific Computing and Computer Vision Tool\n",
    "\n",
    "The tools introduced in [**General Python Tool**](#1.-General-Python-Tool) are also useful in Scientific Computing and Computer Vision(SC&CV) field. \n",
    "\n",
    "In this section we will introduce tools that only uesed in SC&CV field.\n",
    "\n",
    "BTW. Those tools support types include `numpy`, `torch.tensor`， `mxnet.ndarray`, `PIL.Image`.etc   "
   ]
  },
  {
   "cell_type": "markdown",
   "metadata": {},
   "source": [
    "### ▶ `show` every image in complex struct"
   ]
  },
  {
   "cell_type": "code",
   "execution_count": null,
   "metadata": {},
   "outputs": [],
   "source": [
    "%matplotlib inline\n",
    "from skimage.io import imread\n",
    "Lenna = imread('test/imgForTest/Lenna.jpg')\n",
    "\n",
    "from boxx import show\n",
    "show(Lenna)"
   ]
  },
  {
   "cell_type": "markdown",
   "metadata": {},
   "source": [
    "↓ `show` could find ever image in complex struct and `plt.imshow` they"
   ]
  },
  {
   "cell_type": "code",
   "execution_count": null,
   "metadata": {},
   "outputs": [],
   "source": [
    "%matplotlib inline\n",
    "# prepare images\n",
    "import numpy as np\n",
    "from skimage.io import imread\n",
    "image_path = 'test/imgForTest/img.jpg'\n",
    "ground_truth_path = 'test/imgForTest/gt_seg.png'\n",
    "Lenna = imread('test/imgForTest/Lenna.jpg')\n",
    "\n",
    "image = imread(image_path)\n",
    "ground_truth = imread(ground_truth_path)\n",
    "\n",
    "# complex struct\n",
    "batch = dict(\n",
    "    path=(image_path, ground_truth_path),\n",
    "    img=image, \n",
    "    gt=ground_truth, \n",
    "    listt=[\n",
    "        np.append(image, ground_truth[..., None], -1),\n",
    "        np.array([Lenna, Lenna]),\n",
    "    ],\n",
    ")\n",
    "\n",
    "from boxx import show\n",
    "print('show all images in struct:')\n",
    "show(batch)"
   ]
  },
  {
   "cell_type": "markdown",
   "metadata": {},
   "source": [
    "Support image types include `numpy`, `torch.tensor`， `mxnet.ndarray`, `PIL.Image`.etc   \n",
    "\n",
    "And Support sample a batch from `torch.Dataset`, `torch.DataLoader`, and `plt.imshow` the batch."
   ]
  },
  {
   "cell_type": "markdown",
   "metadata": {},
   "source": [
    "### ▶ `loga` to visualization matrix and tensor\n",
    "`loga` is short of \"log array\""
   ]
  },
  {
   "cell_type": "code",
   "execution_count": null,
   "metadata": {
    "scrolled": true
   },
   "outputs": [],
   "source": [
    "%matplotlib inline\n",
    "import numpy as np\n",
    "array = np.random.normal(size=(5,3, 244, 244))\n",
    "\n",
    "from boxx import loga\n",
    "loga(array)"
   ]
  },
  {
   "cell_type": "markdown",
   "metadata": {},
   "source": [
    "`loga` analysis the `numpy.ndarray` by it's shape, max, min, mean, and distribute of the array    \n",
    "`loga` support other array-like types include list, `numpy`, `torch.tensor`, `mxnet.ndarray`.etc\n",
    "\n",
    "`loga` will tell you how many `nan`, `inf` in the array if array include `nan`, `inf`:"
   ]
  },
  {
   "cell_type": "code",
   "execution_count": null,
   "metadata": {},
   "outputs": [],
   "source": [
    "array[...,:10] = np.inf\n",
    "array[...,-10:] = -np.inf\n",
    "array[...,:10,:] = np.nan\n",
    "loga(array)"
   ]
  },
  {
   "cell_type": "markdown",
   "metadata": {},
   "source": [
    "### ▶ `tree` to visualization complex struct for Scientific Computing"
   ]
  },
  {
   "cell_type": "code",
   "execution_count": null,
   "metadata": {
    "scrolled": true
   },
   "outputs": [],
   "source": [
    "# prepare images\n",
    "import numpy as np\n",
    "from skimage.io import imread\n",
    "image_path = 'test/imgForTest/img.jpg'\n",
    "ground_truth_path = 'test/imgForTest/gt_seg.png'\n",
    "Lenna = imread('test/imgForTest/Lenna.jpg')\n",
    "\n",
    "image = imread(image_path)\n",
    "ground_truth = imread(ground_truth_path)\n",
    "\n",
    "# complex struct\n",
    "batch = dict(\n",
    "    path=(image_path, ground_truth_path),\n",
    "    img=image, \n",
    "    gt=ground_truth, \n",
    "    listt=[\n",
    "        np.append(image, ground_truth[..., None], -1),\n",
    "        np.array([Lenna, Lenna]),\n",
    "    ],\n",
    ")\n",
    "\n",
    "from boxx import  tree\n",
    "print('visualization the struct:')\n",
    "tree(batch)"
   ]
  },
  {
   "cell_type": "markdown",
   "metadata": {},
   "source": [
    "A tool like `tree` command in shell that could visualization any complex struct (like `a batch data`) in tree struct view.    \n",
    "\n",
    "Support types include `list`, `tuple`, `dict`, `numpy`, `torch.tensor`， `mxnet.ndarray`, `PIL.Image`.etc   \n",
    "\n",
    "And Support sample a batch from `torch.Dataset`, `torch.DataLoader`."
   ]
  },
  {
   "cell_type": "markdown",
   "metadata": {},
   "source": [
    "### ▶ `npa` is a convenient way to quick transform other numpy like object to numpy\n",
    "`npa` short of \"numpy.array\", use magic method to quick transform other numpy like object to numpy, suport `torch.tensor`, `mxnet.ndarray`, `PIL.Image`, `list`, `tuple` .etc"
   ]
  },
  {
   "cell_type": "code",
   "execution_count": null,
   "metadata": {},
   "outputs": [],
   "source": [
    "from boxx import npa\n",
    "\n",
    "print(npa-range(3))\n",
    "\n",
    "import numpy as np\n",
    "from boxx import loga\n",
    "\n",
    "r = npa-range(3)\n",
    "print((npa*[r, r]))"
   ]
  }
 ],
 "metadata": {
  "kernelspec": {
   "display_name": "Python 3",
   "language": "python",
   "name": "python3"
  },
  "language_info": {
   "codemirror_mode": {
    "name": "ipython",
    "version": 3
   },
   "file_extension": ".py",
   "mimetype": "text/x-python",
   "name": "python",
   "nbconvert_exporter": "python",
   "pygments_lexer": "ipython3",
   "version": "3.6.5"
  }
 },
 "nbformat": 4,
 "nbformat_minor": 2
}
