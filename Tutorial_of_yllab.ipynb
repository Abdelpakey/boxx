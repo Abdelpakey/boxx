{
 "cells": [
  {
   "cell_type": "markdown",
   "metadata": {},
   "source": [
    "\n",
    "## Efficient Tools for Coding in Python \n",
    "\n",
    "[yllab](https://github.com/DIYer22/yllab)是我自己积累的Python代码库，里面有Debug，图像，机器学习等方面的实用工具\n",
    "\n",
    "在IPython开发环境中 能显著提高开发调试的效率\n",
    "\n",
    "\n",
    "> PS.一些功能仅在Linux(Ubuntu)下运行\n"
   ]
  },
  {
   "cell_type": "markdown",
   "metadata": {},
   "source": [
    "## 性能"
   ]
  },
  {
   "cell_type": "code",
   "execution_count": null,
   "metadata": {},
   "outputs": [],
   "source": [
    "# 计时 old way\n",
    "import time\n",
    "fib = lambda x: x==0 or x*fib(x-1)\n",
    "\n",
    "begin = time.time()\n",
    "fib(900)\n",
    "print 'spend time:',time.time()-begin"
   ]
  },
  {
   "cell_type": "code",
   "execution_count": null,
   "metadata": {},
   "outputs": [],
   "source": [
    "from yllab import timeit\n",
    "print timeit.__doc__"
   ]
  },
  {
   "cell_type": "code",
   "execution_count": null,
   "metadata": {},
   "outputs": [],
   "source": [
    "with timeit():\n",
    "    fib(900)"
   ]
  },
  {
   "cell_type": "code",
   "execution_count": null,
   "metadata": {
    "scrolled": false
   },
   "outputs": [],
   "source": [
    "# 代码热力图\n",
    "from yllab import heatMap\n",
    "py = \"./yllab.py\"\n",
    "heatMap(py)"
   ]
  },
  {
   "cell_type": "code",
   "execution_count": null,
   "metadata": {
    "scrolled": true
   },
   "outputs": [],
   "source": [
    "# 代码火焰图\n",
    "from yllab import crun\n",
    "\n",
    "code = \"\"\"from yllab import getWeightCore,loga,show;\n",
    "loga(getWeightCore(50));show(getWeightCore(50))\"\"\"\n",
    "crun(code)"
   ]
  },
  {
   "cell_type": "markdown",
   "metadata": {},
   "source": [
    "## 图像与数据相关"
   ]
  },
  {
   "cell_type": "code",
   "execution_count": null,
   "metadata": {
    "scrolled": false
   },
   "outputs": [],
   "source": [
    "# 数据准备\n",
    "from yllab import imread,show,np\n",
    "jpg,png='./yl-test/imgForTest/0004.jpg','./yl-test/imgForTest/0004.png'\n",
    "img,gt = imread(jpg),imread(png)\n",
    "show(img,gt)"
   ]
  },
  {
   "cell_type": "code",
   "execution_count": null,
   "metadata": {},
   "outputs": [],
   "source": [
    "# 查看复杂结构 old way\n",
    "\n",
    "chaos={\n",
    "    None:np.array([img]*3),\n",
    "    0: [],\n",
    "    'a': [gt,gt], \n",
    "    'Other':[5,6,(gt,'string! ^_^'),img],\n",
    "      }\n",
    "chaosList = [chaos,gt[...,None]]\n",
    "print(str(chaosList)[:1000])"
   ]
  },
  {
   "cell_type": "code",
   "execution_count": null,
   "metadata": {},
   "outputs": [],
   "source": [
    "# tree可视化复杂结构\n",
    "from yllab import tree\n",
    "tree(chaosList)"
   ]
  },
  {
   "cell_type": "code",
   "execution_count": null,
   "metadata": {
    "scrolled": true
   },
   "outputs": [],
   "source": [
    "# 从复杂结构中显示所有图片 \n",
    "show(chaosList)"
   ]
  },
  {
   "cell_type": "code",
   "execution_count": null,
   "metadata": {
    "collapsed": true,
    "scrolled": true
   },
   "outputs": [],
   "source": [
    "# 显示图片细节 必须为 Linux 下(ubuntu)\n",
    "from yllab import showb\n",
    "showb(img)"
   ]
  },
  {
   "cell_type": "code",
   "execution_count": null,
   "metadata": {
    "collapsed": true,
    "scrolled": true
   },
   "outputs": [],
   "source": [
    "# 同一图片的不同形式进行对比（如遥感图片及其Ground Truth） \n",
    "from yllab import shows\n",
    "shows(img,gt,gt,img)"
   ]
  },
  {
   "cell_type": "markdown",
   "metadata": {},
   "source": [
    "# 高效率开发与调试"
   ]
  },
  {
   "cell_type": "code",
   "execution_count": null,
   "metadata": {},
   "outputs": [],
   "source": [
    "# 便捷的字典(like JaveScript Object)\n",
    "from yllab import dicto\n",
    "d = dicto()\n",
    "\n",
    "# old way\n",
    "d['a'] = 5\n",
    "\n",
    "# new\n",
    "d.b = 10\n",
    "print d"
   ]
  },
  {
   "cell_type": "code",
   "execution_count": null,
   "metadata": {
    "scrolled": false
   },
   "outputs": [],
   "source": [
    "# 获取函数内部数据\n",
    "from yllab import g\n",
    "from random import random\n",
    "def f():\n",
    "    mask = (gt>0)[...,None]\n",
    "    g.m = mask\n",
    "    masked = img*mask\n",
    "    return masked\n",
    "a=f()\n",
    "show(g.m)"
   ]
  },
  {
   "cell_type": "code",
   "execution_count": null,
   "metadata": {},
   "outputs": [],
   "source": [
    "# 快速了解instance 所有属性 dir的高级版本\n",
    "dicInstance = {'key':'value'}\n",
    "\n",
    "from yllab import dira\n",
    "print(dira.__doc__)\n",
    "dira(dicInstance,'^[^_]',)"
   ]
  },
  {
   "cell_type": "markdown",
   "metadata": {},
   "source": [
    "# Computer Vision & Deep Learning Skills in Python"
   ]
  },
  {
   "cell_type": "markdown",
   "metadata": {},
   "source": [
    "\n",
    "## 计算机视觉和深度学习实践 推荐的学习路径\n",
    "\n",
    "### Python基础与编码环境\n",
    "| 技能 | 重要等级 | 补充 |\n",
    "| :--------: | :-----  | |\n",
    "| Python语言 | ☆☆☆☆☆ | (无) | \n",
    "| Anaconda | ☆☆☆☆ | (无) | \n",
    "| Spyder/Ipython | ☆☆☆☆ | (无) | \n",
    "| jupyter Notebook | ☆☆☆ | (无) | \n",
    "\n",
    "### Python科学计算库\n",
    "| 技能 | 重要等级 | 补充 |\n",
    "| :--------: | :-----  | |\n",
    "| numpy | ☆☆☆☆☆ | (无) | \n",
    "| scipy | ☆☆ | (无) | \n",
    "| matplotlib | ☆☆| (无) | \n",
    "| pandas | ☆☆| (无) | \n",
    "\n",
    "### 计算机视觉库\n",
    "| 技能 | 重要等级 | 补充 |\n",
    "| :--------: | :-----  | |\n",
    "| opencv | ☆☆☆ | (无) | \n",
    "| skimage | ☆☆☆ | (无) | \n",
    "| PIL | ☆| (无) | \n",
    "\n",
    "### 深度学习框架\n",
    "| 技能 | 重要等级 | 补充 |\n",
    "| :--------: | :-----  | |\n",
    "| PyTorch | ☆☆☆☆☆ | (无) | \n",
    "| TensorFlow | ☆☆☆☆ | (无) | \n",
    "| MxNet/Gluon | ☆☆☆| (无) | \n",
    "| Caffe/Caffe2 | ☆☆ | (无) | \n",
    "\n",
    "### Others\n",
    "| 技能 | 重要等级 | 补充 |\n",
    "| :--------: | :-----  | |\n",
    "| Linux/Shell | ☆☆☆☆ | (无) | \n",
    "| GitHub | ☆☆ | (无) | \n",
    "\n",
    "> 以上技能及其等级 仅代表个人实际感受 欢迎一起探讨\n",
    "\n",
    "\n",
    "> Computer Vsion & Deep Learning in practice\n",
    "\n",
    "\n"
   ]
  },
  {
   "cell_type": "markdown",
   "metadata": {},
   "source": [
    "# yllab的文件结构"
   ]
  },
  {
   "cell_type": "markdown",
   "metadata": {},
   "source": [
    "\n",
    "### 文件结构\n",
    "```\n",
    "yl\n",
    "├── tool   # 常用Python工具module\n",
    "│   ├── __init__.py\n",
    "│   ├── toolFuncation.py\n",
    "│   ├── toolIo.py\n",
    "│   ├── toolLog.py\n",
    "│   ├── toolStructObj.py\n",
    "│   ├── toolSystem.py\n",
    "│   └── toolTools.py\n",
    "├── undetermined.py\n",
    "├── yldb\n",
    "│   ├── dbPublicFuncation.py\n",
    "│   ├── __init__.py\n",
    "│   ├── yldf.py\n",
    "│   ├── ylmysql.py\n",
    "│   └── ylsqlite.py\n",
    "├── ylimg  # 关于图片处理的module\n",
    "│   ├── __init__.py\n",
    "│   ├── showImgsInBrowser.py\n",
    "│   ├── ylimgTool.py\n",
    "│   └── ylimgVideoAndGif.py\n",
    "├── yllab.py\n",
    "├── ylml   # 关于机器学习的module\n",
    "│   ├── __init__.py\n",
    "│   ├── ylmlEvalu.py\n",
    "│   ├── ylmlTest.py\n",
    "│   └── ylmlTrain.py\n",
    "├── ylnp.py # 关于numpy的module\n",
    "└── ylweb.py\n",
    "\n",
    "yl-test     # 测试代码\n",
    "├── imgForTest\n",
    "├── toolTest.py\n",
    "├── yldbTest.py\n",
    "├── ylimgTest.py\n",
    "└── ylmlTest.py\n",
    "\n",
    "```\n",
    "想进一步了解其他工具的话 请`git clone`代码，用Spyer打开`./yl-test`下的对应module的测试代码，将变量`TEST_ALL`设置为`TEST_ALL = True`"
   ]
  },
  {
   "cell_type": "code",
   "execution_count": null,
   "metadata": {
    "scrolled": true
   },
   "outputs": [],
   "source": [
    "from yllab import treem\n",
    "import yllab\n",
    "treem(yllab.tool)\n",
    "treem(yllab.ylimg)\n",
    "treem(yllab.ylml)\n",
    "treem(yllab.ylnp)\n",
    "# Image Process & Deep Learning Skills in Python"
   ]
  }
 ],
 "metadata": {
  "kernelspec": {
   "display_name": "Python 2",
   "language": "python",
   "name": "python2"
  },
  "language_info": {
   "codemirror_mode": {
    "name": "ipython",
    "version": 2
   },
   "file_extension": ".py",
   "mimetype": "text/x-python",
   "name": "python",
   "nbconvert_exporter": "python",
   "pygments_lexer": "ipython2",
   "version": "2.7.13"
  }
 },
 "nbformat": 4,
 "nbformat_minor": 2
}
